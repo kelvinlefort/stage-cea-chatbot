{
 "cells": [
  {
   "cell_type": "markdown",
   "id": "0c482fe3-5884-43a6-a2fa-2c3f2a6502a6",
   "metadata": {},
   "source": [
    "# Utilisation de Mistral-7B"
   ]
  },
  {
   "cell_type": "markdown",
   "id": "f5b1d0f7-d132-4e6e-ae2e-b9837c3b1e95",
   "metadata": {},
   "source": [
    "## Introduction"
   ]
  },
  {
   "cell_type": "markdown",
   "id": "38de5505-866b-419d-93c8-d2dd36cfc11d",
   "metadata": {},
   "source": [
    "Dans ce notebook, nous allons utiliser Mistral-7B (https://huggingface.co/mistralai/Mistral-7B-v0.3) à partir de l'API Transformers d'Hugging Face. Les étapes suivantes seront suivies :\n",
    "\n",
    "1. Installation des packages.\n",
    "2. Importation des bibliothèques nécessaires.\n",
    "3. Récupération du modèle Mistral-7B.\n",
    "4. Prédiction à partir du modèle.\n",
    "5. Sauvegarde du modèle sur le disque\n",
    "\n",
    "Note : Les éléments suivants sont requis :\n",
    "- Compte Hugging Face\n",
    "- Accéder au modèle Mistral-7B v0.3 (https://huggingface.co/mistralai/Mistral-7B-v0.3) sur Hugging Face et accepter les termes et conditions\n",
    "- Créer un \"READ\" token à partir de vos paramètres sur Hugging Face"
   ]
  },
  {
   "cell_type": "markdown",
   "id": "8f46ba7f-ec69-46a4-8509-7a641ab8a9da",
   "metadata": {},
   "source": [
    "## Installation des packages"
   ]
  },
  {
   "cell_type": "code",
   "execution_count": null,
   "id": "09bd8cee-c1ee-41c6-8425-0ede6a975da4",
   "metadata": {},
   "outputs": [],
   "source": [
    "# ! pip install transformers[sentencepiece] trl accelerate torch bitsandbytes peft datasets -qU"
   ]
  },
  {
   "cell_type": "markdown",
   "id": "5d3b82e5-4fcc-4ec9-9e58-569344b18274",
   "metadata": {},
   "source": [
    "## Importation des bibliothèques nécessaires"
   ]
  },
  {
   "cell_type": "code",
   "execution_count": null,
   "id": "f94f7234-1915-46ee-9102-9fa6606db872",
   "metadata": {},
   "outputs": [],
   "source": [
    "# Pour télécharger les données\n",
    "from datasets import load_dataset\n",
    "\n",
    "# Pour avoir l'accès au Hub d'Hugging Face\n",
    "from huggingface_hub import notebook_login\n",
    "\n",
    "# Pour récupérer Mistral-7B, le tokenizer associé et ...\n",
    "from transformers import AutoModelForCausalLM, AutoTokenizer, BitsAndBytesConfig\n",
    "\n",
    "# Pour utiliser PyTorch\n",
    "import torch"
   ]
  },
  {
   "cell_type": "markdown",
   "id": "c2f8c108-9f5f-4ec7-9992-71cb1bb7369e",
   "metadata": {},
   "source": [
    "## Récupération du modèle Mistral-7B"
   ]
  },
  {
   "cell_type": "markdown",
   "id": "2a36f146-52af-4564-be67-0a2a6879dffb",
   "metadata": {},
   "source": [
    "Dans cette section, on télécharge/récupère le modèle de base Mistral-7B et le tokenizer associé."
   ]
  },
  {
   "cell_type": "markdown",
   "id": "e3526ca1-aab4-45c5-9097-1129a80fb9fe",
   "metadata": {},
   "source": [
    "On commence par se connecter à Hugging Face à partir d'un token qu'on récupère sur Hugging Face :"
   ]
  },
  {
   "cell_type": "code",
   "execution_count": null,
   "id": "b18d13c3-7fce-40f1-ba78-0a7cfa585038",
   "metadata": {},
   "outputs": [],
   "source": [
    "# Connexion à Hugging Face grâce à un token\n",
    "notebook_login()"
   ]
  },
  {
   "cell_type": "code",
   "execution_count": null,
   "id": "096b4470-056b-4fee-b237-d227971163c8",
   "metadata": {},
   "outputs": [],
   "source": [
    "# TODO: À étudier\n",
    "nf4_config = BitsAndBytesConfig(\n",
    "   load_in_4bit=True,\n",
    "   bnb_4bit_quant_type=\"nf4\",\n",
    "   bnb_4bit_use_double_quant=True,\n",
    "   bnb_4bit_compute_dtype=torch.float\n",
    ")"
   ]
  },
  {
   "cell_type": "code",
   "execution_count": null,
   "id": "e751fe6d-cc5d-4bfa-9203-107bdaa5e4e6",
   "metadata": {},
   "outputs": [],
   "source": [
    "model_id = \"mistralai/Mistral-7B-v0.3\""
   ]
  },
  {
   "cell_type": "code",
   "execution_count": null,
   "id": "364702ae-f4cb-4549-a7dd-13f7c09e9a34",
   "metadata": {},
   "outputs": [],
   "source": [
    "# Récupération de Mistral-7B\n",
    "model = AutoModelForCausalLM.from_pretrained(\n",
    "    model_id,\n",
    "    device_map='auto',\n",
    "    quantization_config=nf4_config,\n",
    "    use_cache=False,\n",
    ")"
   ]
  },
  {
   "cell_type": "code",
   "execution_count": null,
   "id": "f12f1e95-c2ad-4fa8-bf62-ee466d5acc79",
   "metadata": {},
   "outputs": [],
   "source": [
    "# Récupération du tokenizer associé\n",
    "tokenizer = AutoTokenizer.from_pretrained(\"mistralai/Mistral-7B-v0.3\")\n",
    "\n",
    "# Problème: ValueError: Cannot instantiate this tokenizer from a slow version. If it's based on sentencepiece, make sure you have sentencepiece installed.\n",
    "# Solution: pip install transformers[sentencepiece]"
   ]
  },
  {
   "cell_type": "code",
   "execution_count": null,
   "id": "34fa0fdb-0d47-412e-97f6-151b964d5eb3",
   "metadata": {},
   "outputs": [],
   "source": [
    "# TODO: À étudier\n",
    "tokenizer.pad_token = tokenizer.eos_token\n",
    "tokenizer.padding_side = \"right\""
   ]
  },
  {
   "cell_type": "markdown",
   "id": "e8a202f3-b299-4b5f-a7f9-5a74296014c9",
   "metadata": {},
   "source": [
    "## Prédiction à partir du modèle"
   ]
  },
  {
   "cell_type": "code",
   "execution_count": null,
   "id": "1eff223d-232a-4bea-b9b7-4a69fb075d63",
   "metadata": {},
   "outputs": [],
   "source": [
    "def generate_response(prompt, tokenizer, model):\n",
    "  encoded_input = tokenizer(prompt,  return_tensors=\"pt\", add_special_tokens=True)\n",
    "    \n",
    "  print(\"Tokenization du prompt:\")\n",
    "  print(encoded_input)\n",
    "  print(\"\\n\")\n",
    "    \n",
    "  print(\"Affichage des tokens:\")\n",
    "  print(tokenizer.tokenize(tokenizer.decode(encoded_input[\"input_ids\"][0])))\n",
    "  print(\"\\n\")\n",
    "    \n",
    "  model_inputs = encoded_input.to('cuda')\n",
    "    \n",
    "  print(\"Chargement dans cuda:\")\n",
    "  print(model_inputs)\n",
    "  print(\"\\n\")\n",
    "\n",
    "  generated_ids = model.generate(**model_inputs, max_new_tokens=1000, do_sample=True, pad_token_id=tokenizer.eos_token_id)\n",
    "\n",
    "  print(\"IDs générés:\")\n",
    "  print(generated_ids)\n",
    "  print(\"\\n\")\n",
    "\n",
    "  decoded_output = tokenizer.batch_decode(generated_ids)\n",
    "\n",
    "  print(\"Décodage des IDs générés:\")\n",
    "  print(decoded_output[0])\n",
    "  print(\"\\n\")\n",
    "\n",
    "  print(\"Suppression du prompt:\")\n",
    "  print(decoded_output[0].replace(prompt, \"\"))\n",
    "  print(\"\\n\")\n",
    "\n",
    "  return decoded_output[0].replace(prompt, \"\")"
   ]
  },
  {
   "cell_type": "markdown",
   "id": "25f1c291-f5a4-4a32-8c21-1dea29a5503b",
   "metadata": {},
   "source": [
    "Exemple d'utilisation de la fonction `generate_response` :"
   ]
  },
  {
   "cell_type": "code",
   "execution_count": null,
   "id": "eedd47e0-3c9a-4ab5-ac47-aa852152fea5",
   "metadata": {},
   "outputs": [],
   "source": [
    "# Prompt\n",
    "prompt1 = \"### Instruction:\\nUse the provided input to create a response.\\n\\n### Input:\\nCan I find information about SALOME platform ?\\n\\n### Response:\"\n",
    "prompt2 = \"### Instruction:\\nUse the provided input to create a response.\\n\\n### Input:\\nWhat is the CEA Research Center website ?\\n\\n### Response:\"\n",
    "\n",
    "print(\"########################### Prompt 1 ###########################\")\n",
    "print(\"\\n\")\n",
    "print(prompt1)\n",
    "print(\"\\n\")\n",
    "\n",
    "print(\"########################### Prompt 2 ###########################\")\n",
    "print(\"\\n\")\n",
    "print(prompt2)\n",
    "print(\"\\n\")"
   ]
  },
  {
   "cell_type": "code",
   "execution_count": null,
   "id": "0abde696-8e5b-44ce-8b0a-c3bb4bf4948f",
   "metadata": {},
   "outputs": [],
   "source": [
    "# Réponse prédite par le modèle\n",
    "toto = generate_response(prompt1, tokenizer, model)"
   ]
  },
  {
   "cell_type": "code",
   "execution_count": null,
   "id": "05dc1d06-0899-445a-a4f1-f97d96be3116",
   "metadata": {},
   "outputs": [],
   "source": [
    "# Réponse prédite par le modèle\n",
    "toto = generate_response(prompt2, tokenizer, model)"
   ]
  },
  {
   "cell_type": "markdown",
   "id": "72991509-725d-4093-adea-3b5333009074",
   "metadata": {},
   "source": [
    "## Sauvegarde du modèle sur le disque"
   ]
  },
  {
   "cell_type": "code",
   "execution_count": null,
   "id": "ebdccb16-52da-4927-adf4-84f952865fb0",
   "metadata": {},
   "outputs": [],
   "source": [
    "# Spécification du répertoire de sauvegarde\n",
    "save_directory_model = \"../models/mistral7b_not_fine-tune\"\n",
    "save_directory_tokenizer = \"../models/mistral7b_tokenizer_not_fine-tune\"\n",
    "\n",
    "# Sauvegarde du modèle non fine-tuné sur le disque\n",
    "model.save_pretrained(save_directory_model)\n",
    "\n",
    "# Sauvegarde du tokenizer non fine-tuné sur le disque\n",
    "tokenizer.save_pretrained(save_directory_tokenizer)"
   ]
  }
 ],
 "metadata": {
  "kernelspec": {
   "display_name": "Python (stage-cea-chatbot)",
   "language": "python",
   "name": "stage-cea-chatbot"
  },
  "language_info": {
   "codemirror_mode": {
    "name": "ipython",
    "version": 3
   },
   "file_extension": ".py",
   "mimetype": "text/x-python",
   "name": "python",
   "nbconvert_exporter": "python",
   "pygments_lexer": "ipython3",
   "version": "3.10.12"
  }
 },
 "nbformat": 4,
 "nbformat_minor": 5
}
